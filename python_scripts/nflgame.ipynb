{
 "cells": [
  {
   "cell_type": "markdown",
   "metadata": {},
   "source": [
    "# Mapping NFL Drive Charts \n",
    "\n",
    "Reference: ArcGIS Python Recipes, \"Mapping NFL Drive Charts.\" ArcPy Cafe, 2016. https://arcpy.wordpress.com/"
   ]
  },
  {
   "cell_type": "markdown",
   "metadata": {},
   "source": [
    "[`nflgame`](https://pypi.org/project/nflgame/) is an API to retrieve and read NFL Game Center JSON data. It can work with real-time data. `nflgame` works by parsing the same JSON data that powers NFL.com's live GameCenter. The package comes pre-loaded with game data from every pre and regular season game from 2009 to present. Therefore, querying such data does not actually ping NFL.com. "
   ]
  },
  {
   "cell_type": "markdown",
   "metadata": {},
   "source": [
    "Example from [PyPI](https://pypi.org/project/nflgame/): Finding top 5 running backs by rushing yards in the first week of the 2013 season. "
   ]
  },
  {
   "cell_type": "code",
   "execution_count": null,
   "metadata": {},
   "outputs": [],
   "source": [
    "import nflgame\n",
    "\n",
    "games = nflgame.games(2013,week=1)\n",
    "players = nflgame.combine_game_stats(games)\n",
    "for p in players.rushing().sort('rushing_yds').limit(5):\n",
    "    msg = '%s %d carries for %d yards and %d TDs'\n",
    "    print msg % (p, p.rushing_att, p.rushing_yds, p.rushing_tds)"
   ]
  },
  {
   "cell_type": "markdown",
   "metadata": {},
   "source": [
    "Example from [PyPI](https://pypi.org/project/nflgame/): Finding top 5 passing plays in the same time period. "
   ]
  },
  {
   "cell_type": "code",
   "execution_count": null,
   "metadata": {},
   "outputs": [],
   "source": [
    "import nflgame\n",
    "games = nflgame.games(2013, week = 1)\n",
    "plays = nflgame.combine_plays(games)\n",
    "for p in plays.sort('passing_yds').limit(5):\n",
    "    print p\n"
   ]
  },
  {
   "cell_type": "markdown",
   "metadata": {},
   "source": [
    "## ArcGIS\n",
    "\n",
    "Working along the script in ArcGIS Python Recipe, we can create NFL drive charts in ArcGIS. A drive chart is a visual representation of a sequence of plays during a football game. \n",
    "\n",
    "This example looks at Superbowl XLIX with Seattle Seahawks vs. New England Patriots. "
   ]
  },
  {
   "cell_type": "code",
   "execution_count": null,
   "metadata": {},
   "outputs": [],
   "source": [
    "import os\n",
    "import nflgame\n",
    "import arcpy"
   ]
  },
  {
   "cell_type": "code",
   "execution_count": null,
   "metadata": {},
   "outputs": [],
   "source": [
    "# Create football field feature class, assembled polygon features for the field, insert into featureclass\n",
    "\n",
    "def build_football_field(output_gdb, output_feature_class):\n",
    "    print('Creating football field')\n",
    "    football_field_fields = ('SHAPE@', 'TEAM')\n",
    "    fc = os.path.join(ooutput_gdb, output_feature_class)\n",
    "    if not arcpy.Exists(os.path.join(output_gdb, output_feature_class)):\n",
    "        arcpy.CreateFeatureclass_management(\n",
    "            output_gdb, output_feature_class, \"POLYGON\", \"#\", \"DISABLED\",\n",
    "            \"DISABLED\", arcpy.SpatialReference(3857))\n",
    "        arcpy.AddField_management(fc,football_field_fields[1], \"TEXT\", field_length = 20)\n",
    "        \n",
    "    cursor = arcpy.da.InsertCursor(fc, football_field_fields)\n",
    "    \n",
    "    field = [(0, 533.3),(1000, 533.3), (1000, 0), (0, 0)]\n",
    "    cursor.insertRow([field, \"\"])\n",
    "    home_endzone = [(-100, 533.3), (0, 533.3), (0, 0), (-100, 0)]\n",
    "    cursor.insertRow([home_endzone, \"SEATTLE\"])\n",
    "    away_endzone = [(1000, 533.3), (1100, 533.3), (1100, 0), (1000, 0)]\n",
    "    cursor.insertRow([away_endzone, \"NEW ENGLAND\"])\n",
    "    # Field Dimensions are 100 yds x 53.33 yds, endzones are 10 yds deep. Length and width scaled by 10. "
   ]
  },
  {
   "cell_type": "code",
   "execution_count": null,
   "metadata": {},
   "outputs": [],
   "source": [
    "# Created yardline markers spaced at 10 yd intervals\n",
    "\n",
    "def build_yard_lines(output_gdb, output_feature_class):\n",
    "    print('Creating yard markers.')\n",
    "    football_line_fields = ('SHAPE@', 'MARKER')\n",
    "    fc = os.path.join(output_gdb, output_feature_class)\n",
    "    if not arcpy.Exists(os.path.join(output_gdb, output_feature_class)):\n",
    "        arcpy.CreateFeatureclass_management(\n",
    "            output_gdb, output_feature_class, \"POLYLINE\", \"#\", \"DISABLED\", \"DISABLED\",\n",
    "            arcpy.SpatialReference(3857))\n",
    "        arcpy.AddField_management(fc, football_line_fields[1], \"TEXT\", field_length = 10)\n",
    "        \n",
    "    cursor = arcpy.da.InsertCursor(fc, football_line_fields)\n",
    "    markers = [10, 20, 30, 40, 50, 60, 70, 80, 90]\n",
    "    for marker in markers:\n",
    "        line_1 = [(marker * 10, 533.3 / 2), (marker * 10, 0)]\n",
    "        line_2 = [(marker * 10, 533.3 / 2), (marker * 10, 533.3)]\n",
    "        if marker > 50: \n",
    "            cursor.insertRow([line_1, str(100 - marker)])\n",
    "            cursor.insertRow([line_2, str(100 - marker)])\n",
    "        else:\n",
    "            cursor.insertRow([line_1, str(marker)])\n",
    "            cursor.insertRow([line_2, str(marker)])"
   ]
  },
  {
   "cell_type": "markdown",
   "metadata": {},
   "source": [
    "This is what it should look like: \n",
    "\n",
    "![Field](https://arcpy.files.wordpress.com/2016/02/superbowl_xlix-_field.jpg)"
   ]
  },
  {
   "cell_type": "code",
   "execution_count": null,
   "metadata": {},
   "outputs": [],
   "source": [
    "# Drive chart showing results of every drive from Superbowl XLIX. \n",
    "# nflgame access drive data, arcpy creates drive chart feature class\n",
    "# insert cursor adds the geometries and attribution to feature class\n",
    "\n",
    "home = 'SEA' \n",
    "away = 'NE'\n",
    "year = 2014\n",
    "week = 5 \n",
    "reg_post = 'POST'\n",
    "\n",
    "print('Getting game data.')\n",
    "game = nflgame.one(year, week, home, away, reg_post)\n",
    "\n",
    "print('Getting game data.')\n",
    "drives = get_game_drives(game)\n",
    "drive_count = get_num_drives(drives)\n",
    "\n",
    "def get_game_drives(game):\n",
    "    # returns a list of drives\n",
    "    return [drive for drive in game.drives]\n",
    "\n",
    "def get_num_drives(drives):\n",
    "    # returns the number of drives per game\n",
    "    for drive in drives:\n",
    "        drive_count = drive.drive_num\n",
    "    \n",
    "    return drive_count\n",
    "\n",
    "drive_fields = ('SHAPE@', 'TEAM', 'DRIVE_NUM', 'START_POS', 'END_POS', 'DURATION', 'RESULT', 'DESCRIPTION')\n",
    "# created feature class to insert drive data into \n",
    "\n",
    "# 'SHAPE@' is the shape of bar representing the drive\n",
    "# 'TEAM' is the team that had possession of the football\n",
    "# 'DRIVE_NUM' is the number of the drive\n",
    "# 'START_POS' is the yardline where the drive started\n",
    "# 'END_POS' is the yardline where the drive ended\n",
    "# 'DURATION' is the length of time the drive took\n",
    "# 'RESULT' is the outcome of the drive\n",
    "# 'DESCRIPTION' is the NFL GameCenter description of the drive"
   ]
  },
  {
   "cell_type": "code",
   "execution_count": null,
   "metadata": {},
   "outputs": [],
   "source": [
    "# Insert cursor for the drive chart feature class\n",
    "# for every drive in the drives object, we created a drive chart polygon and populated the above attribute fields\n",
    "\n",
    "print('Opening insert cursor')\n",
    "cursor = arcpy.da.InsertCursor(os.path.join(output_gdb, output_fc), drive_fields)\n",
    "\n",
    "drive_bar_height = 533.3 / drive_count\n",
    "for drive in drives: \n",
    "    if drive.field_start:\n",
    "        start_x, end_x = create_chart_polygon(drive, home, away)\n",
    "        if start_x == end_x: \n",
    "            polygon == [\n",
    "                (start_x, (drive_count - drive.drive_num) * drive_bar_height),\n",
    "                (end_x + 0.1, (drive_count - drive.drive_num) * drive_bar_height),\n",
    "                (end_x + 0.1, (drive_count - drive.drive_num) * drive_bar_height + (drive_bar_height - 1)),\n",
    "                (start_x, (drive_count - drive.drive_num) * drive_bar_height + (drive_bar_height -1))]\n",
    "        else:\n",
    "            polygon == [\n",
    "                (start_x, (drive_count - drive.drive_num) * drive_bar_height),\n",
    "                (end_x, (drive_count - drive.drive_num) * drive_bar_height),\n",
    "                (end_x, (drive_count - drive.drive_num) * drive_bar_height + (drive_bar_height - 1)),\n",
    "                (start_x, (drive_count - drive.drive_num) * drive_bar_height + (drive_bar_height - 1))]\n",
    "        \n",
    "        cursor.insertRow([polygone, drive.team, drive.drive_num, str(drive.field_start), str(drive.field_end), str(drive.pos_time._dict_['minutes']) + ' min and ' + str(drive.pos_time._dict_['seconds']) + ' sec', drive.result, str(drive)])\n",
    "    "
   ]
  },
  {
   "cell_type": "code",
   "execution_count": null,
   "metadata": {},
   "outputs": [],
   "source": [
    "def create_chart_polygon(drive, home, away):\n",
    "    # returns the start position (start_x) and end position (end_x) for each drive\n",
    "    scale_by = 10 \n",
    "    if drive.team == home:\n",
    "        start_x = 50 + drive.field_start._dict_['offset']\n",
    "        if drive.result == 'Touchdown':\n",
    "            end_x = 100\n",
    "        else:\n",
    "            end_x = 50 + drive.field_end._dict_['offset']\n",
    "            \n",
    "        if drive.team == away:\n",
    "            start_x = 50 - drive.field_start._dict_['offset']\n",
    "            if drive.result == 'Touchdown':\n",
    "                end_x = 0\n",
    "            else:\n",
    "                end_x = 50 - drive.field_start._dict_['offset']\n",
    "        \n",
    "        return scale_by * start_x, scale_by * end_x "
   ]
  },
  {
   "cell_type": "markdown",
   "metadata": {},
   "source": [
    "After creating the drive chart, we added it to the football field, symbolized drives by 'TEAM' field and added labels corresponding to the 'RESULT' field. \n",
    "\n",
    "![Field2](https://arcpy.files.wordpress.com/2016/02/superbowl_xlix-_drives.jpg)"
   ]
  }
 ],
 "metadata": {
  "kernelspec": {
   "display_name": "Python 3",
   "language": "python",
   "name": "python3"
  }
 },
 "nbformat": 4,
 "nbformat_minor": 2
}
